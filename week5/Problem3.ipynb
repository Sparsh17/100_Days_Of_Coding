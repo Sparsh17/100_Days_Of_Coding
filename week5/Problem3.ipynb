{
 "cells": [
  {
   "cell_type": "code",
   "execution_count": 6,
   "id": "classified-temple",
   "metadata": {},
   "outputs": [
    {
     "name": "stdout",
     "output_type": "stream",
     "text": [
      "443839\n"
     ]
    }
   ],
   "source": [
    "# Surprisingly there are only three numbers that can be written as the sum of fourth powers of their digits:\n",
    "\n",
    "# 1634 = 14 + 64 + 34 + 44\n",
    "# 8208 = 84 + 24 + 04 + 84\n",
    "# 9474 = 94 + 44 + 74 + 44\n",
    "# As 1 = 14 is not a sum it is not included.\n",
    "\n",
    "# The sum of these numbers is 1634 + 8208 + 9474 = 19316.\n",
    "\n",
    "# Find the sum of all the numbers that can be written as the sum of fifth powers of their digits.\n",
    "\n",
    "\n",
    "\n",
    "s = sum(i for i in range(10, 1000000) if i == sum(int(d) ** 5 for d in str(i)))\n",
    "print(s)"
   ]
  },
  {
   "cell_type": "code",
   "execution_count": null,
   "id": "psychological-discipline",
   "metadata": {},
   "outputs": [],
   "source": []
  }
 ],
 "metadata": {
  "kernelspec": {
   "display_name": "Python 3",
   "language": "python",
   "name": "python3"
  },
  "language_info": {
   "codemirror_mode": {
    "name": "ipython",
    "version": 3
   },
   "file_extension": ".py",
   "mimetype": "text/x-python",
   "name": "python",
   "nbconvert_exporter": "python",
   "pygments_lexer": "ipython3",
   "version": "3.7.10"
  }
 },
 "nbformat": 4,
 "nbformat_minor": 5
}
