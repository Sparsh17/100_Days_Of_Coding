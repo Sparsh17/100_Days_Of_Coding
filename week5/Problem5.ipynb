{
 "cells": [
  {
   "cell_type": "code",
   "execution_count": 1,
   "id": "finished-fiction",
   "metadata": {},
   "outputs": [
    {
     "name": "stdout",
     "output_type": "stream",
     "text": [
      "45228\n"
     ]
    }
   ],
   "source": [
    "# We shall say that an n-digit number is pandigital if it makes use of all the digits 1 to n exactly once; for example, the\n",
    "# 5-digit number, 15234, is 1 through 5 pandigital.\n",
    "\n",
    "# The product 7254 is unusual, as the identity, 39 × 186 = 7254, containing multiplicand, multiplier, and product is 1 through\n",
    "# 9 pandigital.\n",
    "\n",
    "# Find the sum of all products whose multiplicand/multiplier/product identity can be written as a 1 through 9 pandigital.\n",
    "\n",
    "# HINT: Some products can be obtained in more than one way so be sure to only include it once in your sum.\n",
    "\n",
    "\n",
    "def pandigital(n):\n",
    "    pandigitals = set([str(i) for i in range(1, n + 1)])\n",
    "    products = {}\n",
    "    for i in range(2000):\n",
    "        for j in range(2000):\n",
    "            s = str(i) + str(j) + str(i * j)\n",
    "            if len(s) > n:\n",
    "                break\n",
    "            ident = set(s)\n",
    "            if len(s) == n and ident == pandigitals and i * j not in products:\n",
    "                products[i * j] = 1\n",
    "    return sum(products.keys())\n",
    "\n",
    "print(pandigital(9))"
   ]
  },
  {
   "cell_type": "code",
   "execution_count": null,
   "id": "fifth-choice",
   "metadata": {},
   "outputs": [],
   "source": []
  }
 ],
 "metadata": {
  "kernelspec": {
   "display_name": "Python 3",
   "language": "python",
   "name": "python3"
  },
  "language_info": {
   "codemirror_mode": {
    "name": "ipython",
    "version": 3
   },
   "file_extension": ".py",
   "mimetype": "text/x-python",
   "name": "python",
   "nbconvert_exporter": "python",
   "pygments_lexer": "ipython3",
   "version": "3.7.10"
  }
 },
 "nbformat": 4,
 "nbformat_minor": 5
}
