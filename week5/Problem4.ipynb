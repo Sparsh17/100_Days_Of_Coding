{
 "cells": [
  {
   "cell_type": "code",
   "execution_count": 1,
   "id": "contained-preparation",
   "metadata": {},
   "outputs": [
    {
     "name": "stdout",
     "output_type": "stream",
     "text": [
      "73682\n"
     ]
    }
   ],
   "source": [
    "# In the United Kingdom the currency is made up of pound (£) and pence (p). There are eight coins in general circulation:\n",
    "\n",
    "# 1p, 2p, 5p, 10p, 20p, 50p, £1 (100p), and £2 (200p).\n",
    "# It is possible to make £2 in the following way:\n",
    "\n",
    "# 1×£1 + 1×50p + 2×20p + 1×5p + 1×2p + 3×1p\n",
    "# How many different ways can £2 be made using any number of coins?\n",
    "\n",
    "\n",
    "def coin_curr(n, coins):\n",
    "    ways = [1] + [0] * n\n",
    "    for coin in coins:\n",
    "        for i in range(coin, n + 1):\n",
    "            ways[i] += ways[i - coin]\n",
    "    if n == 0:\n",
    "        return 0\n",
    "    else:\n",
    "        return ways[n]\n",
    "\n",
    "\n",
    "print(coin_curr(200, [1, 2, 5, 10, 20, 50, 100, 200]))"
   ]
  },
  {
   "cell_type": "code",
   "execution_count": null,
   "id": "mounted-comedy",
   "metadata": {},
   "outputs": [],
   "source": []
  }
 ],
 "metadata": {
  "kernelspec": {
   "display_name": "Python 3",
   "language": "python",
   "name": "python3"
  },
  "language_info": {
   "codemirror_mode": {
    "name": "ipython",
    "version": 3
   },
   "file_extension": ".py",
   "mimetype": "text/x-python",
   "name": "python",
   "nbconvert_exporter": "python",
   "pygments_lexer": "ipython3",
   "version": "3.7.10"
  }
 },
 "nbformat": 4,
 "nbformat_minor": 5
}
