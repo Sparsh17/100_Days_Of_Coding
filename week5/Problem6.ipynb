{
 "cells": [
  {
   "cell_type": "code",
   "execution_count": 3,
   "id": "legendary-denmark",
   "metadata": {},
   "outputs": [
    {
     "name": "stdout",
     "output_type": "stream",
     "text": [
      "100\n"
     ]
    }
   ],
   "source": [
    "# The fraction 49/98 is a curious fraction, as an inexperienced mathematician in attempting to simplify it may incorrectly \n",
    "# believe that 49/98 = 4/8, which is correct, is obtained by cancelling the 9s.\n",
    "# We shall consider fractions like, 30/50 = 3/5, to be trivial examples.\n",
    "\n",
    "# There are exactly four non-trivial examples of this type of fraction, less than one in value, and containing two digits in \n",
    "# the numerator and denominator.\n",
    "\n",
    "# If the product of these four fractions is given in its lowest common terms, find the value of the denominator.\n",
    "\n",
    "\n",
    "import math\n",
    "\n",
    "def compute():\n",
    "    numer = 1\n",
    "    denom = 1\n",
    "    for d in range(10, 100):\n",
    "        for n in range(10, d):\n",
    "            n0 = n % 10\n",
    "            n1 = n // 10\n",
    "            d0 = d % 10\n",
    "            d1 = d // 10\n",
    "            if (n1 == d0 and n0 * d == n * d1) or (n0 == d1 and n1 * d == n * d0):\n",
    "                numer *= n\n",
    "                denom *= d\n",
    "    return str(denom // math.gcd(numer, denom))\n",
    "\n",
    "print(compute())"
   ]
  },
  {
   "cell_type": "code",
   "execution_count": null,
   "id": "persistent-outreach",
   "metadata": {},
   "outputs": [],
   "source": []
  }
 ],
 "metadata": {
  "kernelspec": {
   "display_name": "Python 3",
   "language": "python",
   "name": "python3"
  },
  "language_info": {
   "codemirror_mode": {
    "name": "ipython",
    "version": 3
   },
   "file_extension": ".py",
   "mimetype": "text/x-python",
   "name": "python",
   "nbconvert_exporter": "python",
   "pygments_lexer": "ipython3",
   "version": "3.7.10"
  }
 },
 "nbformat": 4,
 "nbformat_minor": 5
}
