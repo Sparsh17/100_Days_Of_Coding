{
 "cells": [
  {
   "cell_type": "markdown",
   "metadata": {},
   "source": [
    "# Sum square difference"
   ]
  },
  {
   "cell_type": "code",
   "execution_count": 3,
   "metadata": {},
   "outputs": [
    {
     "name": "stdout",
     "output_type": "stream",
     "text": [
      "25164150\n"
     ]
    }
   ],
   "source": [
    "# Find the difference between the sum of the squares of the first one hundred natural numbers and the square of the sum.\n",
    "\n",
    "def sum_square(n):\n",
    "    l = []\n",
    "    s = 0\n",
    "    for i in range(1,n+1):\n",
    "        l.append(i**2)\n",
    "    for ele in l:\n",
    "        s += ele\n",
    "    return s\n",
    "\n",
    "def square_sum(n):\n",
    "    l = []\n",
    "    s = 0\n",
    "    for i in range(1,n+1):\n",
    "        l.append(i)\n",
    "    for ele in l:\n",
    "        s += ele\n",
    "    return (s**2)\n",
    "\n",
    "a = sum_square(100)\n",
    "b = square_sum(100)\n",
    "print(b - a)"
   ]
  },
  {
   "cell_type": "code",
   "execution_count": null,
   "metadata": {},
   "outputs": [],
   "source": []
  }
 ],
 "metadata": {
  "kernelspec": {
   "display_name": "Python 3",
   "language": "python",
   "name": "python3"
  },
  "language_info": {
   "codemirror_mode": {
    "name": "ipython",
    "version": 3
   },
   "file_extension": ".py",
   "mimetype": "text/x-python",
   "name": "python",
   "nbconvert_exporter": "python",
   "pygments_lexer": "ipython3",
   "version": "3.7.6"
  }
 },
 "nbformat": 4,
 "nbformat_minor": 4
}
