{
 "cells": [
  {
   "cell_type": "markdown",
   "metadata": {},
   "source": [
    "## Largest Palindrome Product"
   ]
  },
  {
   "cell_type": "code",
   "execution_count": 11,
   "metadata": {},
   "outputs": [
    {
     "name": "stdout",
     "output_type": "stream",
     "text": [
      "995 583\n",
      "993 913\n",
      "906609\n"
     ]
    }
   ],
   "source": [
    "# A palindromic number reads the same both ways. The largest palindrome made from the product of two 2-digit numbers is \n",
    "# 9009 = 91 × 99.\n",
    "\n",
    "# Find the largest palindrome made from the product of two 3-digit numbers.\n",
    "\n",
    "product = 0\n",
    "for i in range(999,99,-1):\n",
    "    for j in range(i,99,-1):\n",
    "        a = i * j\n",
    "        if a > product:   # this is to find max product\n",
    "            s = str(a)\n",
    "            if s == s[::-1]:\n",
    "                product = i * j\n",
    "                print(i,j)\n",
    "print(product)"
   ]
  },
  {
   "cell_type": "code",
   "execution_count": 15,
   "metadata": {},
   "outputs": [
    {
     "name": "stdout",
     "output_type": "stream",
     "text": [
      "906609\n"
     ]
    }
   ],
   "source": [
    "# 2nd method\n",
    "\n",
    "product = 0\n",
    "for i in range(100,1000):\n",
    "    for j in range(i+1,1001):\n",
    "        a = i * j\n",
    "        if a > product:   # this is to find max product\n",
    "            s = str(a)\n",
    "            if s == s[::-1]:\n",
    "                product = i * j\n",
    "#                 print(i,j)\n",
    "print(product)"
   ]
  },
  {
   "cell_type": "code",
   "execution_count": null,
   "metadata": {},
   "outputs": [],
   "source": []
  }
 ],
 "metadata": {
  "kernelspec": {
   "display_name": "Python 3",
   "language": "python",
   "name": "python3"
  },
  "language_info": {
   "codemirror_mode": {
    "name": "ipython",
    "version": 3
   },
   "file_extension": ".py",
   "mimetype": "text/x-python",
   "name": "python",
   "nbconvert_exporter": "python",
   "pygments_lexer": "ipython3",
   "version": "3.7.6"
  }
 },
 "nbformat": 4,
 "nbformat_minor": 4
}
