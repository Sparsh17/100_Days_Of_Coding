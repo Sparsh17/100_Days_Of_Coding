{
 "cells": [
  {
   "cell_type": "code",
   "execution_count": 1,
   "id": "stopped-insight",
   "metadata": {},
   "outputs": [
    {
     "name": "stdout",
     "output_type": "stream",
     "text": [
      "Created Linked list is:\n",
      "1 2 3 4 5 \n",
      "Linked List after Deletion is:\n",
      "1 2 3 5 "
     ]
    }
   ],
   "source": [
    "# Given a linked list, remove the n-th node from the end of the list and return its head.\n",
    "# Example:\n",
    "# Given linked list: 1->2->3->4->5, and n = 2.\n",
    "\n",
    "# After removing the second node from the end, the linked list becomes 1->2->3->5.\n",
    "\n",
    "# Note:\n",
    "# Given n will always be valid.\n",
    "\n",
    "\n",
    "class Node:\n",
    "    def __init__(self, new_data):\n",
    "        self.data = new_data\n",
    "        self.next = None\n",
    "\n",
    "\n",
    "class LinkedList:\n",
    "    def __init__(self):\n",
    "        self.head = None\n",
    "    def push(self, new_data):\n",
    "        new_node = Node(new_data)\n",
    "        new_node.next = self.head\n",
    "        self.head = new_node\n",
    "\n",
    "    def deleteNode(self, n):\n",
    "        first = self.head\n",
    "        second = self.head\n",
    "        for i in range(n):\n",
    "\n",
    "            if (second.next == None):\n",
    "\n",
    "                if (i == n - 1):\n",
    "                    self.head = self.head.next\n",
    "                return self.head\n",
    "            second = second.next\n",
    "\n",
    "        while (second.next != None):\n",
    "            second = second.next\n",
    "            first = first.next\n",
    "\n",
    "        first.next = first.next.next\n",
    "\n",
    "    def printList(self):\n",
    "        tmp_head = self.head\n",
    "        while (tmp_head != None):\n",
    "            print(tmp_head.data, end=' ')\n",
    "            tmp_head = tmp_head.next\n",
    "\n",
    "llist = LinkedList()\n",
    "llist.push(5)\n",
    "llist.push(4)\n",
    "llist.push(3)\n",
    "llist.push(2)\n",
    "llist.push(1)\n",
    "\n",
    "print(\"Created Linked list is:\")\n",
    "llist.printList()\n",
    "n=2\n",
    "llist.deleteNode(n)\n",
    "print(\"\\nLinked List after Deletion is:\")\n",
    "llist.printList()\n",
    "\n"
   ]
  },
  {
   "cell_type": "code",
   "execution_count": null,
   "id": "bibliographic-stuff",
   "metadata": {},
   "outputs": [],
   "source": []
  }
 ],
 "metadata": {
  "kernelspec": {
   "display_name": "Python 3",
   "language": "python",
   "name": "python3"
  },
  "language_info": {
   "codemirror_mode": {
    "name": "ipython",
    "version": 3
   },
   "file_extension": ".py",
   "mimetype": "text/x-python",
   "name": "python",
   "nbconvert_exporter": "python",
   "pygments_lexer": "ipython3",
   "version": "3.7.10"
  }
 },
 "nbformat": 4,
 "nbformat_minor": 5
}
