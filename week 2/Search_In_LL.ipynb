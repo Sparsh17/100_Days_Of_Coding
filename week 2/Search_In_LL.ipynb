{
 "cells": [
  {
   "cell_type": "code",
   "execution_count": 5,
   "id": "horizontal-breath",
   "metadata": {},
   "outputs": [
    {
     "name": "stdout",
     "output_type": "stream",
     "text": [
      "False\n"
     ]
    }
   ],
   "source": [
    "# #  Write a Python program to search a specific item in a singly linked list and return true if the item is found otherwise\n",
    "# # return false.\n",
    "# # Sample input\n",
    "# # items = singly_linked_list()\n",
    "# # items.append_item('PHP')\n",
    "# # items.append_item('Python')\n",
    "# # items.append_item('C#')\n",
    "# # items.append_item('C++')\n",
    "# # items.append_item('Java')\n",
    "# # items.search_item('SQL')\n",
    "\n",
    "# # Sample output\n",
    "# # False\n",
    "\n",
    "\n",
    "class Node:\n",
    "    # Singly linked node\n",
    "    def __init__(self, data=None):\n",
    "        self.data = data\n",
    "        self.next = None\n",
    "        \n",
    "\n",
    "class singly_linked_list:\n",
    "    def __init__(self):\n",
    "        # Createe an empty list\n",
    "        self.tail = None\n",
    "        self.head = None\n",
    "        self.count = 0\n",
    "\n",
    "    def append_item(self, data):\n",
    "        #Append items on the list\n",
    "        node = Node(data)\n",
    "        if self.head:\n",
    "            self.head.next = node\n",
    "            self.head = node\n",
    "        else:\n",
    "            self.tail = node\n",
    "            self.head = node\n",
    "        self.count += 1\n",
    "    \n",
    "    def iterate_item(self):\n",
    "        # Iterate the list.\n",
    "        curr = self.tail\n",
    "        while curr:\n",
    "            val = curr.data\n",
    "            curr = curr.next\n",
    "            yield val\n",
    "\n",
    "    def search_item(self, val):\n",
    "         # Search the list\n",
    "         for node in self.iterate_item():\n",
    "             if val == node:\n",
    "                 return True\n",
    "         return False\n",
    "\n",
    "items = singly_linked_list()\n",
    "items.append_item('PHP')\n",
    "items.append_item('Python')\n",
    "items.append_item('C#')\n",
    "items.append_item('C++')\n",
    "items.append_item('Java')\n",
    "\n",
    "if items.search_item('SQL'):\n",
    "    print(\"True\")\n",
    "else:\n",
    "    print(\"False\")\n",
    "\n"
   ]
  },
  {
   "cell_type": "code",
   "execution_count": null,
   "id": "weighted-mother",
   "metadata": {},
   "outputs": [],
   "source": []
  }
 ],
 "metadata": {
  "kernelspec": {
   "display_name": "Python 3",
   "language": "python",
   "name": "python3"
  },
  "language_info": {
   "codemirror_mode": {
    "name": "ipython",
    "version": 3
   },
   "file_extension": ".py",
   "mimetype": "text/x-python",
   "name": "python",
   "nbconvert_exporter": "python",
   "pygments_lexer": "ipython3",
   "version": "3.7.10"
  }
 },
 "nbformat": 4,
 "nbformat_minor": 5
}
