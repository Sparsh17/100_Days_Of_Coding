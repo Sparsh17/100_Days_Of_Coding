{
 "cells": [
  {
   "cell_type": "code",
   "execution_count": 9,
   "id": "employed-michigan",
   "metadata": {},
   "outputs": [
    {
     "name": "stdout",
     "output_type": "stream",
     "text": [
      "True\n"
     ]
    }
   ],
   "source": [
    "# Given a singly linked list of characters, write a function that returns True if the given list is a palindrome, else False.\n",
    "\n",
    "# Sample input\n",
    "# (\"\"r\"\" -> \"\"a\"\" -> \"\"d\"\" -> \"\"a\"\" -> \"\"r\"\" )\n",
    "\n",
    "# Sample output\n",
    "# True\n",
    "\n",
    "\n",
    "\n",
    "# Node class\n",
    "class Node:\n",
    "\n",
    "# Constructor to initialize the node object\n",
    "    def __init__(self, data):\n",
    "        self.data = data\n",
    "        self.next = None\n",
    "\n",
    "class LinkedList:\n",
    "\n",
    "# Function to initialize head\n",
    "    def __init__(self):\n",
    "        self.head = None\n",
    "\n",
    "# A utility function to check if str is palindrome\n",
    "# or not\n",
    "    def isPalindromeUtil(self, string):\n",
    "        return (string == string[::-1])\n",
    "\n",
    "# Returns true if string formed by linked list is\n",
    "# palindrome\n",
    "    def isPalindrome(self):\n",
    "        node = self.head\n",
    "\n",
    "        # Append all nodes to form a string\n",
    "        temp = []\n",
    "        while (node is not None):\n",
    "            temp.append(node.data)\n",
    "            node = node.next\n",
    "        string = \"\".join(temp)\n",
    "        return self.isPalindromeUtil(string)\n",
    "\n",
    "# Utility function to print the linked LinkedList\n",
    "    def printList(self):\n",
    "        temp = self.head\n",
    "        while (temp):\n",
    "            print (temp.data,)\n",
    "            temp = temp.next\n",
    "\n",
    "\n",
    "# Driver program to test above function\n",
    "llist = LinkedList()\n",
    "llist.head = Node('r')\n",
    "llist.head.next = Node('a')\n",
    "llist.head.next.next = Node(\"d\")\n",
    "llist.head.next.next.next = Node(\"a\")\n",
    "llist.head.next.next.next.next = Node(\"r\")\n",
    "if llist.isPalindrome():\n",
    "    print('True')\n",
    "else:\n",
    "    print(\"False\")"
   ]
  },
  {
   "cell_type": "code",
   "execution_count": null,
   "id": "secure-corporation",
   "metadata": {},
   "outputs": [],
   "source": []
  }
 ],
 "metadata": {
  "kernelspec": {
   "display_name": "Python 3",
   "language": "python",
   "name": "python3"
  },
  "language_info": {
   "codemirror_mode": {
    "name": "ipython",
    "version": 3
   },
   "file_extension": ".py",
   "mimetype": "text/x-python",
   "name": "python",
   "nbconvert_exporter": "python",
   "pygments_lexer": "ipython3",
   "version": "3.7.10"
  }
 },
 "nbformat": 4,
 "nbformat_minor": 5
}
