{
 "cells": [
  {
   "cell_type": "code",
   "execution_count": 3,
   "metadata": {},
   "outputs": [
    {
     "name": "stdout",
     "output_type": "stream",
     "text": [
      "11\n"
     ]
    }
   ],
   "source": [
    "# Given an array arr[] with N elements, the task is to find out the longest sub-array which has the shape of a mountain.\n",
    "# The Longest Peak consists of elements that are initially in ascending order until a peak element is reached and beyond the peak\n",
    "# element all other elements of the sub-array are in decreasing order.\n",
    "\n",
    "# Input: arr = [2, 2, 2]\n",
    "# Output: 0\n",
    "# Explanation:\n",
    "# No sub-array exists that shows the behaviour of a mountain sub-array.\n",
    "\n",
    "# Input: arr = [1, 3, 1, 4, 5, 6, 7, 8, 9, 8, 7, 6, 5]\n",
    "# Output: 11\n",
    "\n",
    "# Explanation:\n",
    "# There are two sub-arrays that can be considered as mountain sub-arrays. The first one is from index 0 – 2 (3 elements) and\n",
    "# next one is from index 2 – 12 (11 elements). As 11 > 2, our answer is 11.\n",
    "\n",
    "def longest_sub_arr(arr):\n",
    "    i = 0\n",
    "    l = 0\n",
    "    t = 0\n",
    "    while i<len(arr)-1:\n",
    "        t = 1\n",
    "        while arr[i]<arr[i+1] and i<len(arr)-1:\n",
    "            t+=1\n",
    "            i+=1\n",
    "            \n",
    "        while (i<len(arr)-1 and arr[i]>arr[i+1]):\n",
    "            t+=1\n",
    "            i+=1\n",
    "            \n",
    "        if l<t:\n",
    "            l=t\n",
    "    return l\n",
    "\n",
    "arr = [1, 3, 1, 4, 5, 6, 7, 8, 9, 8, 7, 6, 5]\n",
    "print(longest_sub_arr(arr))"
   ]
  },
  {
   "cell_type": "code",
   "execution_count": null,
   "metadata": {},
   "outputs": [],
   "source": []
  }
 ],
 "metadata": {
  "kernelspec": {
   "display_name": "Python 3",
   "language": "python",
   "name": "python3"
  },
  "language_info": {
   "codemirror_mode": {
    "name": "ipython",
    "version": 3
   },
   "file_extension": ".py",
   "mimetype": "text/x-python",
   "name": "python",
   "nbconvert_exporter": "python",
   "pygments_lexer": "ipython3",
   "version": "3.7.6"
  }
 },
 "nbformat": 4,
 "nbformat_minor": 4
}
