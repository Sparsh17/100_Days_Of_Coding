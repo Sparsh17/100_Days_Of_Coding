{
 "cells": [
  {
   "cell_type": "code",
   "execution_count": 3,
   "metadata": {},
   "outputs": [
    {
     "name": "stdout",
     "output_type": "stream",
     "text": [
      "xyz\n",
      "2\n",
      "zab\n"
     ]
    }
   ],
   "source": [
    "# Given a non-empty string of lowercase letters and a non-negative integer representing a key, Write a function that returns a \n",
    "# new string obtained by shifting any letter in the input string by k positions in the alphabet, where k is the key. Note that \n",
    "# letters should \"\"wrap\"\" around the alphabet; in other words, the letter \"\"z\"\" shifted by one returns the letter \"\"a\"\"\n",
    "# Sample Input:\n",
    "# string = \"\"xyz\"\"\n",
    "# key = 2\n",
    "\n",
    "# Sample Output:\n",
    "# \"\"zab\"\"\n",
    "\n",
    "# Optimal Space & Time Complexity\n",
    "# O(1) & O(n), where n is the length of the input string.\n",
    "\n",
    "\n",
    "def ceasar_cipher(s,key):\n",
    "    r = \"\"\n",
    "    for i in range(len(s)):\n",
    "        curr = s[i]\n",
    "        \n",
    "        if ord(curr) + key >122:\n",
    "            r += chr(ord(curr) - 26 + key)\n",
    "        else:\n",
    "            r += chr(ord(curr) + key)\n",
    "            \n",
    "    return r\n",
    "\n",
    "s = input()\n",
    "key = int(input())\n",
    "print(ceasar_cipher(s, key))"
   ]
  },
  {
   "cell_type": "code",
   "execution_count": null,
   "metadata": {},
   "outputs": [],
   "source": []
  }
 ],
 "metadata": {
  "kernelspec": {
   "display_name": "Python 3",
   "language": "python",
   "name": "python3"
  },
  "language_info": {
   "codemirror_mode": {
    "name": "ipython",
    "version": 3
   },
   "file_extension": ".py",
   "mimetype": "text/x-python",
   "name": "python",
   "nbconvert_exporter": "python",
   "pygments_lexer": "ipython3",
   "version": "3.7.10"
  }
 },
 "nbformat": 4,
 "nbformat_minor": 4
}
