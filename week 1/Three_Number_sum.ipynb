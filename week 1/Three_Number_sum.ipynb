{
 "cells": [
  {
   "cell_type": "code",
   "execution_count": 8,
   "metadata": {},
   "outputs": [
    {
     "name": "stdout",
     "output_type": "stream",
     "text": [
      "12 2 1 3 -6 5 -8 6\n",
      "[[-8, 2, 6], [-8, 3, 5], [-6, 1, 5]]\n"
     ]
    }
   ],
   "source": [
    "# Write a function that takes in a non empty array of distinct integers and an integer representing a target sum.\n",
    "# The function should find a list of triplets in the array that sum upto the target sum and return a two-dimensional array of \n",
    "# all the these triplets.\n",
    "# The numbers in each triplet should be order in ascending order, and the triplets themselves should be ordered in ascending \n",
    "# order with respect to the numbers they hold.\n",
    "\n",
    "# If no three numbers sum up to the target sum, the function should return an empty array.\n",
    "\n",
    "# Sample Input:\n",
    "\n",
    "# array = [12, 2,1, 3, -6, 5, -8, 6]\n",
    "# targetSum = 0\n",
    "\n",
    "# Sample Output:\n",
    "\n",
    "# [[-8, 2, 6], [-8, 3, 5], [-6, 1, 5]]\n",
    "\n",
    "array = [int(x) for x in input().split()]\n",
    "targetSum = 0\n",
    "final_triplet=[]\n",
    "n = len(array)\n",
    "l = []\n",
    "def threeNumberSum(array, targetSum):\n",
    "\n",
    "    for i in range(0, n-2):\n",
    "     \n",
    "        for j in range(i+1, n-1):\n",
    "         \n",
    "            for k in range(j+1, n):\n",
    "             \n",
    "                if (array[i] + array[j] + array[k] == targetSum):\n",
    "                    l = []\n",
    "                    l.append(array[i])\n",
    "                    l.append(array[j])\n",
    "                    l.append(array[k])\n",
    "                    l.sort()\n",
    "                    final_triplet.append(l)                \n",
    "    return sorted(final_triplet)           \n",
    "result=threeNumberSum(array,targetSum) \n",
    "print(result)"
   ]
  },
  {
   "cell_type": "code",
   "execution_count": null,
   "metadata": {},
   "outputs": [],
   "source": []
  }
 ],
 "metadata": {
  "kernelspec": {
   "display_name": "Python 3",
   "language": "python",
   "name": "python3"
  },
  "language_info": {
   "codemirror_mode": {
    "name": "ipython",
    "version": 3
   },
   "file_extension": ".py",
   "mimetype": "text/x-python",
   "name": "python",
   "nbconvert_exporter": "python",
   "pygments_lexer": "ipython3",
   "version": "3.7.6"
  }
 },
 "nbformat": 4,
 "nbformat_minor": 4
}
