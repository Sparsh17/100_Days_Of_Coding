{
 "cells": [
  {
   "cell_type": "code",
   "execution_count": 1,
   "metadata": {},
   "outputs": [
    {
     "name": "stdout",
     "output_type": "stream",
     "text": [
      "[4, 1, 3, 2, 2, 2, 2, 2]\n"
     ]
    }
   ],
   "source": [
    "# You're given an array of integers and an integer. Write a function that moves all instance of that integer in the array to the \n",
    "# end of the array and returns the array.\n",
    "\n",
    "# Write a function that should perform this in place (i.e , it should mutate the input array) and doesn't need too maintain the \n",
    "# order of the other integer.\n",
    "\n",
    "# Sample Input;\n",
    "\n",
    "# array = [2, 1, 2, 2, 2, 3, 4, 2]\n",
    "# toMove = 2\n",
    "\n",
    "# Sample Output:\n",
    "\n",
    "# [1, 3, 4, 2, 2,2,2,2] // the number 1, 3, and 4 could be ordered differently\n",
    "# Time Complexity:\n",
    "\n",
    "# O(n) time | O(1) space,\n",
    "# where n, is the length of the array\n",
    "\n",
    "def moveElementToEnd(array, toMove):\n",
    "    i = 0\n",
    "\n",
    "    j = len(array) - 1\n",
    "\n",
    "    while (i < j):\n",
    "\n",
    "        while (i < j and array[j] == toMove):\n",
    "            j -= 1\n",
    "\n",
    "        if (array[i] == toMove):\n",
    "\n",
    "            array[i], array[j] = array[j], array[i]\n",
    "\n",
    "        i += 1\n",
    "\n",
    "    return array\n",
    "\n",
    "array = [2, 1, 2, 2, 2, 3, 4, 2]\n",
    "toMove = 2\n",
    "ans = moveElementToEnd(array, toMove)\n",
    "print(ans)\n",
    "\n"
   ]
  },
  {
   "cell_type": "code",
   "execution_count": null,
   "metadata": {},
   "outputs": [],
   "source": []
  }
 ],
 "metadata": {
  "kernelspec": {
   "display_name": "Python 3",
   "language": "python",
   "name": "python3"
  },
  "language_info": {
   "codemirror_mode": {
    "name": "ipython",
    "version": 3
   },
   "file_extension": ".py",
   "mimetype": "text/x-python",
   "name": "python",
   "nbconvert_exporter": "python",
   "pygments_lexer": "ipython3",
   "version": "3.7.6"
  }
 },
 "nbformat": 4,
 "nbformat_minor": 4
}
