{
 "cells": [
  {
   "cell_type": "code",
   "execution_count": 7,
   "metadata": {},
   "outputs": [
    {
     "name": "stdout",
     "output_type": "stream",
     "text": [
      "3 5 -4 8 11 1 -1 6\n",
      "10\n",
      "[-1, 11]\n"
     ]
    }
   ],
   "source": [
    "# Write a function that takes in a non-empty array of distinct integers and an integer representing a target sum. If any \n",
    "# two numbers in the input array sum upto the target sum, the function should return them in an array, in any order. If no two \n",
    "# numbers sum up to the target sum, the function should return an empty array.\n",
    "# Note that the target sum has to be obtained by summing two different integers in the array; you can't add a single integer \n",
    "# to itself in order to obtain the target sum.You can assume that there will be at most one pair of numbers summing up to the \n",
    "# target sum.\n",
    "# array = [3, 5, -4, 8, 11, 1, -1, 6]\n",
    "# targetSum = 10\n",
    "# [-1, 11] // the numbers could be in reverse order\n",
    "# Optimal Solution: O(n) time | O(n) space - where n is the length of the input array.\n",
    "\n",
    "def twoNumberSum(array, targetSum):\n",
    "    l = []\n",
    "    for i in range(0, len(array) - 1):\n",
    "        first_number = array[i]\n",
    "        second_number = targetSum - first_number\n",
    "        secondary_array = array[i + 1:len(array)]\n",
    "        if second_number in secondary_array:\n",
    "            l.append(first_number)\n",
    "            l.append(second_number)\n",
    "\n",
    "    return sorted(l)\n",
    "\n",
    "input_arr = [int(x) for x in input().split()]\n",
    "target_sum = int(input())\n",
    "print(twoNumberSum(input_arr, target_sum))"
   ]
  },
  {
   "cell_type": "code",
   "execution_count": null,
   "metadata": {},
   "outputs": [],
   "source": []
  }
 ],
 "metadata": {
  "kernelspec": {
   "display_name": "Python 3",
   "language": "python",
   "name": "python3"
  },
  "language_info": {
   "codemirror_mode": {
    "name": "ipython",
    "version": 3
   },
   "file_extension": ".py",
   "mimetype": "text/x-python",
   "name": "python",
   "nbconvert_exporter": "python",
   "pygments_lexer": "ipython3",
   "version": "3.7.6"
  }
 },
 "nbformat": 4,
 "nbformat_minor": 4
}
