{
 "cells": [
  {
   "cell_type": "code",
   "execution_count": 10,
   "metadata": {},
   "outputs": [
    {
     "name": "stdout",
     "output_type": "stream",
     "text": [
      "[28, 26]\n"
     ]
    }
   ],
   "source": [
    "# Write a function that takes in two non-empty arrays of integers, find the pair of numbers (one from each array) \n",
    "# whose absolute difference is closet to zero, and returns an array containing these two numbers, with the number from \n",
    "# the first array in the first position.\n",
    "\n",
    "# You can assume that there will only be one pair of numbers with the smallest difference.\n",
    "\n",
    "# Sample Input\n",
    "\n",
    "# arrayOne = [-1, 5, 10, 20, 28, 3]\n",
    "# arrayTwo = [26, 134, 135, 15, 17]\n",
    "\n",
    "# Sample Output\n",
    "\n",
    "# [28, 26]\n",
    "\n",
    "# Optimal Solution\n",
    "# O(nlog(n)) + O(mlog(m) + O(m+n))\n",
    "# where,\n",
    "# n is the size of arrayOne\n",
    "# m is the size of arrayTwo\n",
    "\n",
    "\n",
    "def findSmallestDifference(A, B):\n",
    "\n",
    "    A.sort()\n",
    "    B.sort()\n",
    "    \n",
    "    m = len(A)\n",
    "    n = len(B)\n",
    "\n",
    "    a = 0\n",
    "    b = 0\n",
    "    result = 10\n",
    "\n",
    "    while (a < m and b < n):\n",
    "\n",
    "        if (abs(A[a] - B[b]) < result):\n",
    "            pairs=[A[a],B[b]]\n",
    "            result = abs(A[a] - B[b])\n",
    "            l.append(pairs)\n",
    "        if (A[a] < B[b]):\n",
    "            a += 1\n",
    "\n",
    "        else:\n",
    "            b += 1\n",
    "    return\n",
    "\n",
    "A = [-1, 5, 10, 20, 28, 3]\n",
    "\n",
    "B = [26, 134, 135, 15, 17]\n",
    "l=[]\n",
    "\n",
    "findSmallestDifference(A, B)\n",
    "print(l[-1])"
   ]
  },
  {
   "cell_type": "code",
   "execution_count": null,
   "metadata": {},
   "outputs": [],
   "source": []
  }
 ],
 "metadata": {
  "kernelspec": {
   "display_name": "Python 3",
   "language": "python",
   "name": "python3"
  },
  "language_info": {
   "codemirror_mode": {
    "name": "ipython",
    "version": 3
   },
   "file_extension": ".py",
   "mimetype": "text/x-python",
   "name": "python",
   "nbconvert_exporter": "python",
   "pygments_lexer": "ipython3",
   "version": "3.7.6"
  }
 },
 "nbformat": 4,
 "nbformat_minor": 4
}
