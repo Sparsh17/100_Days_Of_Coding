{
 "cells": [
  {
   "cell_type": "code",
   "execution_count": 4,
   "metadata": {},
   "outputs": [
    {
     "data": {
      "text/plain": [
       "[[7, 6, 4, -1], [7, 6, 1, 2]]"
      ]
     },
     "execution_count": 4,
     "metadata": {},
     "output_type": "execute_result"
    }
   ],
   "source": [
    "# Write a function that takes in a non-empty array of distinct integers and an integer representing a target sum.\n",
    "# The function should find all quadruplets in the array that sum up to the largest sum and return a two dimensional array of \n",
    "# all these\n",
    "# quadruplets in no particular order.\n",
    "\n",
    "# This is the last of its kind, I hope you would have understood the concept of storing complements in the set / dictionary or \n",
    "# after sorting the list we can use two pointers to decide whether to decrement / increment the pointers. This problem also works\n",
    "# on the similar principle, so don't get trapped into the 4 loop Naive Solution.\n",
    "\n",
    "# Sample Input\n",
    "\n",
    "# array = [7,6,4,-1,1,2]\n",
    "# targetSum = 16\n",
    "\n",
    "# Sample Output\n",
    "# // the quadruplets could be ordered differently\n",
    "# [[7, 6, 4, -1], [7, 6, 1, 2]]\n",
    "\n",
    "# Optimal Space & Time Complexity\n",
    "\n",
    "# Average: O(n^2) time | O(n^2) space - where n is the length of the input arrayTwo\n",
    "# Worst: O(n^3) time | O(n^2) space - where n is the length of the input array\n",
    "\n",
    "\n",
    "def findFourElements(A, target):\n",
    "    \n",
    "    l1 = []\n",
    "    n = len(A)\n",
    "\n",
    "    for i in range(0, n - 3):\n",
    "\n",
    "        for j in range(i + 1, n - 2):\n",
    "\n",
    "            for k in range(j + 1, n - 1):\n",
    "\n",
    "                for l in range(k + 1, n):\n",
    "\n",
    "                    if A[i] + A[j] + A[k] + A[l] == X:\n",
    "                        a = A[i]\n",
    "                        b = A[j]\n",
    "                        c = A[k]\n",
    "                        d = A[l]\n",
    "                        l1.append([a,b,c,d])\n",
    "    return l1\n",
    "\n",
    "A = [7,6,4,-1,1,2]\n",
    "target = 16\n",
    "findFourElements(A, target)"
   ]
  },
  {
   "cell_type": "code",
   "execution_count": null,
   "metadata": {},
   "outputs": [],
   "source": []
  }
 ],
 "metadata": {
  "kernelspec": {
   "display_name": "Python 3",
   "language": "python",
   "name": "python3"
  },
  "language_info": {
   "codemirror_mode": {
    "name": "ipython",
    "version": 3
   },
   "file_extension": ".py",
   "mimetype": "text/x-python",
   "name": "python",
   "nbconvert_exporter": "python",
   "pygments_lexer": "ipython3",
   "version": "3.7.6"
  }
 },
 "nbformat": 4,
 "nbformat_minor": 4
}
