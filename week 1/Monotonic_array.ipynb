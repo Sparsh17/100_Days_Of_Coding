{
 "cells": [
  {
   "cell_type": "code",
   "execution_count": 1,
   "metadata": {},
   "outputs": [
    {
     "name": "stdout",
     "output_type": "stream",
     "text": [
      "True\n"
     ]
    }
   ],
   "source": [
    "# Write a function that takes in an array of integers and returns a boolean representing whether the array is monotonic.\n",
    "# An array is said to be monotonic if its elements, from left to right, are entirely non-increasing or entirely non -decreasing.\n",
    "\n",
    "# Sample Input:\n",
    "# array = [-1, -5, -10, -1100, -1100, -1101, -1102, -9001]\n",
    "# Sample Output:\n",
    "# True\n",
    "# Time Complexity: O(n) time | O(1) space, where n, is the length of the array\n",
    "\n",
    "def monotonic(a):\n",
    "    n = len(a)\n",
    "    return (all(a[i]<=a[i+1] for i in range(n-1)) or\n",
    "            all(a[i]>=a[i+1] for i in range(n-1)))\n",
    "array = [-1, -5, -10, -1100, -1100, -1101, -1102, -9001]\n",
    "print(monotonic(array))"
   ]
  },
  {
   "cell_type": "code",
   "execution_count": null,
   "metadata": {},
   "outputs": [],
   "source": []
  }
 ],
 "metadata": {
  "kernelspec": {
   "display_name": "Python 3",
   "language": "python",
   "name": "python3"
  },
  "language_info": {
   "codemirror_mode": {
    "name": "ipython",
    "version": 3
   },
   "file_extension": ".py",
   "mimetype": "text/x-python",
   "name": "python",
   "nbconvert_exporter": "python",
   "pygments_lexer": "ipython3",
   "version": "3.7.6"
  }
 },
 "nbformat": 4,
 "nbformat_minor": 4
}
