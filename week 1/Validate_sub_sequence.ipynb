{
 "cells": [
  {
   "cell_type": "code",
   "execution_count": 2,
   "metadata": {},
   "outputs": [
    {
     "name": "stdout",
     "output_type": "stream",
     "text": [
      "true\n"
     ]
    }
   ],
   "source": [
    "# Given two non-empty arrays of integers, write a function that determines whether the second array is a subsequence of the \n",
    "# first one.\n",
    "\n",
    "# A sub sequence of an array is a set of numbers that aren't necessarily adjacent in the array but that are in the same order \n",
    "# as they appear in the array but that are in the same order as they appear in the array. For instance, the numbers [1, 3, 4] \n",
    "# form a subsequence of the array [1, 2, 3, 4], and so do the numbers [2, 4]. Not that a single number is an array and the array\n",
    "# itself are both valid subsequences of the array.\n",
    "\n",
    "# Sample Input\n",
    "# array = [ 5, 1, 22, 5, 6, -1, 8, 10]\n",
    "# subsequence = [1, 6, -1, 10]\n",
    "\n",
    "# Sample Output\n",
    "# true\n",
    "\n",
    "# Optimal Space & Time Complexity\n",
    "# O(n) time complexity\n",
    "# O(1) space complexity\n",
    "# where, n is the length of the array\n",
    "\n",
    "\n",
    "def isSubSequence(string1, string2):\n",
    "    arrIdx=0\n",
    "    seqIdx=0\n",
    "    while arrIdx<len(string1) and seqIdx<len(string2):\n",
    "        if string1[arrIdx]==string2[seqIdx]:\n",
    "            seqIdx +=1\n",
    "        arrIdx +=1\n",
    "\n",
    "\n",
    "    return seqIdx==len(string2)\n",
    "\n",
    "string1 = [5, 1, 22, 5, 6, -1, 8, 10]\n",
    "string2 = [1, 6, -1, 10]\n",
    "\n",
    "\n",
    "\n",
    "if isSubSequence(string1, string2):\n",
    "    print(\"true\")\n",
    "else:\n",
    "    print(\"false\")"
   ]
  },
  {
   "cell_type": "code",
   "execution_count": null,
   "metadata": {},
   "outputs": [],
   "source": []
  }
 ],
 "metadata": {
  "kernelspec": {
   "display_name": "Python 3",
   "language": "python",
   "name": "python3"
  },
  "language_info": {
   "codemirror_mode": {
    "name": "ipython",
    "version": 3
   },
   "file_extension": ".py",
   "mimetype": "text/x-python",
   "name": "python",
   "nbconvert_exporter": "python",
   "pygments_lexer": "ipython3",
   "version": "3.7.6"
  }
 },
 "nbformat": 4,
 "nbformat_minor": 4
}
