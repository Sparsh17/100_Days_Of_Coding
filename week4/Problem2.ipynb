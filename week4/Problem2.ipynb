{
 "cells": [
  {
   "cell_type": "code",
   "execution_count": 11,
   "id": "pediatric-milton",
   "metadata": {},
   "outputs": [
    {
     "name": "stdout",
     "output_type": "stream",
     "text": [
      "Sum is 31626.0\n"
     ]
    }
   ],
   "source": [
    "# Let d(n) be defined as the sum of proper divisors of n (numbers less than n which divide evenly into n).\n",
    "# If d(a) = b and d(b) = a, where a ≠ b, then a and b are an amicable pair and each of a and b are called amicable numbers.\n",
    "\n",
    "# For example, the proper divisors of 220 are 1, 2, 4, 5, 10, 11, 20, 22, 44, 55 and 110; therefore d(220) = 284. The proper \n",
    "# divisors of 284 are 1, 2, 4, 71 and 142; so d(284) = 220.\n",
    "\n",
    "# Evaluate the sum of all the amicable numbers under 10000.\n",
    "\n",
    "\n",
    "def sieve(n):\n",
    "    is_prime = [True]*n\n",
    "    is_prime[0] = False\n",
    "    is_prime[1] = False\n",
    "    for i in range(2,int(math.sqrt(n)+1)):\n",
    "        index = i*2\n",
    "        while index < n:\n",
    "            is_prime[index] = False\n",
    "            index = index+i\n",
    "    prime = []\n",
    "    for i in range(n):\n",
    "        if is_prime[i] == True:\n",
    "            prime.append(i)\n",
    "    return prime\n",
    "\n",
    "def divisors(n):\n",
    "    divs = [1]\n",
    "    for i in range(2,int(math.sqrt(n))+1):\n",
    "        if n%i == 0:\n",
    "            divs.extend([i,n/i])\n",
    "    return list(set(divs))\n",
    "\n",
    "primes = sieve(10000)\n",
    "\n",
    "ami_nums = []\n",
    "\n",
    "checked = []\n",
    "\n",
    "for i in range(2,10000):\n",
    "    if i not in primes and i not in checked:\n",
    "        da = sum(divisors(i))\n",
    "        db = sum(divisors(da))\n",
    "        checked.extend([da,db])\n",
    "        if i == db:\n",
    "            if da != db:\n",
    "                ami_nums.extend([i,da])\n",
    "\n",
    "print('Sum is {}'.format(sum(ami_nums)))"
   ]
  },
  {
   "cell_type": "code",
   "execution_count": null,
   "id": "electrical-india",
   "metadata": {},
   "outputs": [],
   "source": []
  }
 ],
 "metadata": {
  "kernelspec": {
   "display_name": "Python 3",
   "language": "python",
   "name": "python3"
  },
  "language_info": {
   "codemirror_mode": {
    "name": "ipython",
    "version": 3
   },
   "file_extension": ".py",
   "mimetype": "text/x-python",
   "name": "python",
   "nbconvert_exporter": "python",
   "pygments_lexer": "ipython3",
   "version": "3.7.10"
  }
 },
 "nbformat": 4,
 "nbformat_minor": 5
}
