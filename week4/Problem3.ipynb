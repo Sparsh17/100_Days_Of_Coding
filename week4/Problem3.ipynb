{
 "cells": [
  {
   "cell_type": "code",
   "execution_count": 4,
   "id": "ordered-artwork",
   "metadata": {},
   "outputs": [
    {
     "name": "stdout",
     "output_type": "stream",
     "text": [
      "871198282\n"
     ]
    }
   ],
   "source": [
    "# Using names.txt (right click and 'Save Link/Target As...'), a 46K text file containing over five-thousand first names, begin by\n",
    "# sorting it into alphabetical order. Then working out the alphabetical value for each name, multiply this value by its \n",
    "# alphabetical position in the list to obtain a name score.\n",
    "\n",
    "# For example, when the list is sorted into alphabetical order, COLIN, which is worth 3 + 15 + 12 + 9 + 14 = 53, is the 938th \n",
    "# name in the list. So, COLIN would obtain a score of 938 × 53 = 49714.\n",
    "\n",
    "# What is the total of all the name scores in the file?\n",
    "\n",
    "\n",
    "def name_score(name):\n",
    "    letters = list(name)\n",
    "    letters = [ord(i)-64 for i in letters]\n",
    "    return sum(letters)\n",
    "\n",
    "with open('names.txt') as f:\n",
    "    a = f.read()\n",
    "\n",
    "a = a.strip().split(',')\n",
    "a = [i[1:-1] for i in a]\n",
    "a.sort()\n",
    "scores = 0\n",
    "\n",
    "for i in range(len(a)):\n",
    "    scores += name_score(a[i])*(i+1)\n",
    "\n",
    "print (scores)"
   ]
  },
  {
   "cell_type": "code",
   "execution_count": null,
   "id": "varying-supervisor",
   "metadata": {},
   "outputs": [],
   "source": []
  }
 ],
 "metadata": {
  "kernelspec": {
   "display_name": "Python 3",
   "language": "python",
   "name": "python3"
  },
  "language_info": {
   "codemirror_mode": {
    "name": "ipython",
    "version": 3
   },
   "file_extension": ".py",
   "mimetype": "text/x-python",
   "name": "python",
   "nbconvert_exporter": "python",
   "pygments_lexer": "ipython3",
   "version": "3.7.10"
  }
 },
 "nbformat": 4,
 "nbformat_minor": 5
}
