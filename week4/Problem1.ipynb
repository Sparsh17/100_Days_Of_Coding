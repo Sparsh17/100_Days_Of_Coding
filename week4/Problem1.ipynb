{
 "cells": [
  {
   "cell_type": "code",
   "execution_count": 3,
   "id": "decent-exposure",
   "metadata": {},
   "outputs": [
    {
     "name": "stdout",
     "output_type": "stream",
     "text": [
      "Sum is: 648\n"
     ]
    }
   ],
   "source": [
    "# n! means n × (n − 1) × ... × 3 × 2 × 1\n",
    "\n",
    "# For example, 10! = 10 × 9 × ... × 3 × 2 × 1 = 3628800,\n",
    "# and the sum of the digits in the number 10! is 3 + 6 + 2 + 8 + 8 + 0 + 0 = 27.\n",
    "\n",
    "# Find the sum of the digits in the number 100!\n",
    "\n",
    "\n",
    "n = 100\n",
    "fact = 1\n",
    "nums = []\n",
    "Sum = 0\n",
    "\n",
    "for i in range(1,n+1):\n",
    "    fact = fact * i\n",
    "    nums = map(int, str(fact))\n",
    "\n",
    "for i in nums:\n",
    "    Sum = Sum + i\n",
    "    \n",
    "print(\"Sum is:\",Sum)"
   ]
  },
  {
   "cell_type": "code",
   "execution_count": null,
   "id": "looking-niagara",
   "metadata": {},
   "outputs": [],
   "source": []
  }
 ],
 "metadata": {
  "kernelspec": {
   "display_name": "Python 3",
   "language": "python",
   "name": "python3"
  },
  "language_info": {
   "codemirror_mode": {
    "name": "ipython",
    "version": 3
   },
   "file_extension": ".py",
   "mimetype": "text/x-python",
   "name": "python",
   "nbconvert_exporter": "python",
   "pygments_lexer": "ipython3",
   "version": "3.7.10"
  }
 },
 "nbformat": 4,
 "nbformat_minor": 5
}
