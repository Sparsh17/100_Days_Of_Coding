{
 "cells": [
  {
   "cell_type": "code",
   "execution_count": 1,
   "id": "super-silence",
   "metadata": {},
   "outputs": [
    {
     "name": "stdout",
     "output_type": "stream",
     "text": [
      "4179871\n"
     ]
    }
   ],
   "source": [
    "# A perfect number is a number for which the sum of its proper divisors is exactly equal to the number. For example, the\n",
    "# sum of the proper divisors of 28 would be 1 + 2 + 4 + 7 + 14 = 28, which means that 28 is a perfect number.\n",
    "\n",
    "# A number n is called deficient if the sum of its proper divisors is less than n and it is called abundant if this sum exceeds\n",
    "# n.\n",
    "\n",
    "# As 12 is the smallest abundant number, 1 + 2 + 3 + 4 + 6 = 16, the smallest number that can be written as the sum of two \n",
    "# abundant numbers is 24. By mathematical analysis, it can be shown that all integers greater than 28123 can be written as \n",
    "# the sum of two abundant numbers. However, this upper limit cannot be reduced any further by analysis even though it is known \n",
    "# that the greatest number that cannot be expressed as the sum of two abundant numbers is less than this limit.\n",
    "\n",
    "# Find the sum of all the positive integers which cannot be written as the sum of two abundant numbers.\n",
    "\n",
    "\n",
    "def GetSumOfDivs(n):\n",
    "    i = 2\n",
    "    upper = n\n",
    "    total = 1\n",
    "    while i < upper:\n",
    "        if n%i == 0:\n",
    "            upper = n/i\n",
    "            total += upper\n",
    "            if upper != i: total += i\n",
    "        i += 1\n",
    "    return total\n",
    "\n",
    "\n",
    "def isabundant(n): return GetSumOfDivs(n) > n\n",
    "lAbundants = [x for x in range(12, 28123) if isabundant(x) == True]\n",
    "dAbundants = {x:x for x in lAbundants}\n",
    "\n",
    "sums = 1\n",
    "for i in range(2, 28123):\n",
    "    boo = True\n",
    "    for k in lAbundants:\n",
    "        if k < i:\n",
    "            if (i-k) in dAbundants:\n",
    "                boo = False\n",
    "                break\n",
    "        else : break\n",
    "    if boo == True: sums += i\n",
    "\n",
    "print(sums)"
   ]
  },
  {
   "cell_type": "code",
   "execution_count": null,
   "id": "certified-cover",
   "metadata": {},
   "outputs": [],
   "source": []
  }
 ],
 "metadata": {
  "kernelspec": {
   "display_name": "Python 3",
   "language": "python",
   "name": "python3"
  },
  "language_info": {
   "codemirror_mode": {
    "name": "ipython",
    "version": 3
   },
   "file_extension": ".py",
   "mimetype": "text/x-python",
   "name": "python",
   "nbconvert_exporter": "python",
   "pygments_lexer": "ipython3",
   "version": "3.7.10"
  }
 },
 "nbformat": 4,
 "nbformat_minor": 5
}
