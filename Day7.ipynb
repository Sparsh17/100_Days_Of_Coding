{
 "cells": [
  {
   "cell_type": "markdown",
   "metadata": {},
   "source": [
    "# 1001st Prime"
   ]
  },
  {
   "cell_type": "code",
   "execution_count": 15,
   "metadata": {},
   "outputs": [
    {
     "name": "stdout",
     "output_type": "stream",
     "text": [
      "104743\n"
     ]
    }
   ],
   "source": [
    "# By listing the first six prime numbers: 2, 3, 5, 7, 11, and 13, we can see that the 6th prime is 13.\n",
    "\n",
    "# What is the 10 001st prime number?\n",
    "\n",
    "\n",
    "def nth_prime(n):\n",
    "    counter = 2\n",
    "    for i in range(3, n**2, 2):\n",
    "        k = 1\n",
    "        while k*k < i:\n",
    "            k += 2\n",
    "            if i % k == 0:\n",
    "               break\n",
    "        else:\n",
    "            counter += 1\n",
    "        if counter == n:\n",
    "            return i\n",
    "\n",
    "print(nth_prime(10001))"
   ]
  },
  {
   "cell_type": "code",
   "execution_count": null,
   "metadata": {},
   "outputs": [],
   "source": []
  }
 ],
 "metadata": {
  "kernelspec": {
   "display_name": "Python 3",
   "language": "python",
   "name": "python3"
  }
 },
 "nbformat": 4,
 "nbformat_minor": 4
}
