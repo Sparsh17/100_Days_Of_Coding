{
 "cells": [
  {
   "cell_type": "code",
   "execution_count": 5,
   "id": "stable-button",
   "metadata": {},
   "outputs": [
    {
     "name": "stdout",
     "output_type": "stream",
     "text": [
      "5777\n"
     ]
    }
   ],
   "source": [
    "\n",
    "# It was proposed by Christian Goldbach that every odd composite number can be written as the sum of a prime and twice a square.\n",
    "\n",
    "# 9 = 7 + 2×12\n",
    "# 15 = 7 + 2×22\n",
    "# 21 = 3 + 2×32\n",
    "# 25 = 7 + 2×32\n",
    "# 27 = 19 + 2×22\n",
    "# 33 = 31 + 2×12\n",
    "\n",
    "# It turns out that the conjecture was false.\n",
    "\n",
    "# What is the smallest odd composite that cannot be written as the sum of a prime and twice a square?\n",
    "\n",
    "import math\n",
    "\n",
    "def is_prime(n):\n",
    "    if n % 2 == 0:\n",
    "        return False\n",
    "    else:\n",
    "        for i in range(3, int(n**0.5+1),2):\n",
    "            if n % i == 0:\n",
    "                return False\n",
    "        return True\n",
    "\n",
    "number = 3\n",
    "\n",
    "primes = [2]\n",
    "\n",
    "while True:\n",
    "    if is_prime(number):\n",
    "        primes.append(number)\n",
    "    else:\n",
    "        for i in primes:\n",
    "            if math.sqrt(((number-i)/2)) == int(math.sqrt(((number-i)/2))):\n",
    "                break\n",
    "        else:\n",
    "            print(number)\n",
    "            break\n",
    "\n",
    "    number += 2"
   ]
  },
  {
   "cell_type": "code",
   "execution_count": null,
   "id": "black-combining",
   "metadata": {},
   "outputs": [],
   "source": []
  }
 ],
 "metadata": {
  "kernelspec": {
   "display_name": "Python 3",
   "language": "python",
   "name": "python3"
  },
  "language_info": {
   "codemirror_mode": {
    "name": "ipython",
    "version": 3
   },
   "file_extension": ".py",
   "mimetype": "text/x-python",
   "name": "python",
   "nbconvert_exporter": "python",
   "pygments_lexer": "ipython3",
   "version": "3.7.10"
  }
 },
 "nbformat": 4,
 "nbformat_minor": 5
}
