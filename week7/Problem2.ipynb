{
 "cells": [
  {
   "cell_type": "code",
   "execution_count": 7,
   "id": "civilian-pendant",
   "metadata": {},
   "outputs": [
    {
     "name": "stdout",
     "output_type": "stream",
     "text": [
      "162\n"
     ]
    }
   ],
   "source": [
    "# The nth term of the sequence of triangle numbers is given by, tn = ½n(n+1); so the first ten triangle numbers are:\n",
    "\n",
    "# 1, 3, 6, 10, 15, 21, 28, 36, 45, 55, ...\n",
    "\n",
    "# By converting each letter in a word to a number corresponding to its alphabetical position and adding these values we form \n",
    "# a word value. For example, the word value for SKY is 19 + 11 + 25 = 55 = t10. If the word value is a triangle number then \n",
    "# we shall call the word a triangle word.\n",
    "\n",
    "# Using words.txt (right click and 'Save Link/Target As...'), a 16K text file containing nearly two-thousand common English \n",
    "# words, how many are triangle words?\n",
    "\n",
    "\n",
    "from math import sqrt\n",
    "\n",
    "f = open('words.txt')\n",
    "\n",
    "words = f.read()\n",
    "\n",
    "f.close()\n",
    "\n",
    "words = words.strip().split(',')\n",
    "\n",
    "\n",
    "def convert(character):\n",
    "\n",
    "    return ord(character)-64\n",
    "\n",
    "counter = 0\n",
    "\n",
    "for word in words:\n",
    "    s = sum(map(convert, word[1:-1]))\n",
    "    if sqrt(8*s+1) == int(sqrt(8*s+1)):\n",
    "        counter += 1\n",
    "\n",
    "print(counter)"
   ]
  },
  {
   "cell_type": "code",
   "execution_count": null,
   "id": "rental-company",
   "metadata": {},
   "outputs": [],
   "source": []
  }
 ],
 "metadata": {
  "kernelspec": {
   "display_name": "Python 3",
   "language": "python",
   "name": "python3"
  },
  "language_info": {
   "codemirror_mode": {
    "name": "ipython",
    "version": 3
   },
   "file_extension": ".py",
   "mimetype": "text/x-python",
   "name": "python",
   "nbconvert_exporter": "python",
   "pygments_lexer": "ipython3",
   "version": "3.7.10"
  }
 },
 "nbformat": 4,
 "nbformat_minor": 5
}
