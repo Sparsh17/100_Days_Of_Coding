{
 "cells": [
  {
   "cell_type": "code",
   "execution_count": 8,
   "id": "opening-copying",
   "metadata": {},
   "outputs": [
    {
     "name": "stdout",
     "output_type": "stream",
     "text": [
      "7652413\n"
     ]
    }
   ],
   "source": [
    "# We shall say that an n-digit number is pandigital if it makes use of all the digits 1 to n exactly once. For example, \n",
    "# 2143 is a 4-digit pandigital and is also prime.\n",
    "\n",
    "# What is the largest n-digit pandigital prime that exists?\n",
    "\n",
    "\n",
    "from itertools import permutations\n",
    "\n",
    "def is_prime(n):\n",
    "    for i in range(2, int(n**0.5)+1):\n",
    "        if n % i == 0:\n",
    "            return False\n",
    "    return True\n",
    "\n",
    "a = '123456789'\n",
    "\n",
    "flag = True\n",
    "\n",
    "j = 9\n",
    "\n",
    "while flag:\n",
    "    p = permutations(a[:j])\n",
    "    p = list(p)[::-1]\n",
    "    for i in p:\n",
    "        if int(i[j-1]) % 2 != 0:\n",
    "            number = int(''.join(i))\n",
    "            if (number+1) % 6 == 0 or (number-1) % 6 == 0:\n",
    "                if is_prime(number):\n",
    "                    print(number)\n",
    "                    flag = False\n",
    "                    break\n",
    "    j -= 1"
   ]
  },
  {
   "cell_type": "code",
   "execution_count": null,
   "id": "statewide-sherman",
   "metadata": {},
   "outputs": [],
   "source": []
  }
 ],
 "metadata": {
  "kernelspec": {
   "display_name": "Python 3",
   "language": "python",
   "name": "python3"
  },
  "language_info": {
   "codemirror_mode": {
    "name": "ipython",
    "version": 3
   },
   "file_extension": ".py",
   "mimetype": "text/x-python",
   "name": "python",
   "nbconvert_exporter": "python",
   "pygments_lexer": "ipython3",
   "version": "3.7.10"
  }
 },
 "nbformat": 4,
 "nbformat_minor": 5
}
