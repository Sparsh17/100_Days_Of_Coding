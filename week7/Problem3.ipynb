{
 "cells": [
  {
   "cell_type": "code",
   "execution_count": 7,
   "id": "assured-attendance",
   "metadata": {},
   "outputs": [
    {
     "name": "stdout",
     "output_type": "stream",
     "text": [
      "16695334890\n"
     ]
    }
   ],
   "source": [
    "# The number, 1406357289, is a 0 to 9 pandigital number because it is made up of each of the digits 0 to 9 in some order, \n",
    "# but it also has a rather interesting sub-string divisibility property.\n",
    "\n",
    "# Let d1 be the 1st digit, d2 be the 2nd digit, and so on. In this way, we note the following:\n",
    "\n",
    "# d2d3d4=406 is divisible by 2\n",
    "# d3d4d5=063 is divisible by 3\n",
    "# d4d5d6=635 is divisible by 5\n",
    "# d5d6d7=357 is divisible by 7\n",
    "# d6d7d8=572 is divisible by 11\n",
    "# d7d8d9=728 is divisible by 13\n",
    "# d8d9d10=289 is divisible by 17\n",
    "# Find the sum of all 0 to 9 pandigital numbers with this property.\n",
    "\n",
    "\n",
    "\n",
    "from itertools import permutations\n",
    "\n",
    "\n",
    "def to_int(nums):\n",
    "    return int(''.join(map(str, nums)))\n",
    "\n",
    "\n",
    "def is_interesting(num):\n",
    "    n = 0\n",
    "    for d in [2, 3, 5, 7, 11, 13, 17]:\n",
    "        n = n + 1\n",
    "        nums = [num[n], num[n + 1], num[n + 2]]\n",
    "        if not to_int(nums) % d == 0:\n",
    "            return False\n",
    "\n",
    "    return True\n",
    "\n",
    "\n",
    "print (sum([to_int(n) for n in permutations(range(10)) if is_interesting(n)]))"
   ]
  },
  {
   "cell_type": "code",
   "execution_count": null,
   "id": "polished-cleveland",
   "metadata": {},
   "outputs": [],
   "source": []
  }
 ],
 "metadata": {
  "kernelspec": {
   "display_name": "Python 3",
   "language": "python",
   "name": "python3"
  },
  "language_info": {
   "codemirror_mode": {
    "name": "ipython",
    "version": 3
   },
   "file_extension": ".py",
   "mimetype": "text/x-python",
   "name": "python",
   "nbconvert_exporter": "python",
   "pygments_lexer": "ipython3",
   "version": "3.7.10"
  }
 },
 "nbformat": 4,
 "nbformat_minor": 5
}
