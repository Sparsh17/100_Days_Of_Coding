{
 "cells": [
  {
   "cell_type": "code",
   "execution_count": 3,
   "id": "proved-excuse",
   "metadata": {},
   "outputs": [
    {
     "name": "stdout",
     "output_type": "stream",
     "text": [
      "55\n"
     ]
    }
   ],
   "source": [
    "# The number, 197, is called a circular prime because all rotations of the digits: 197, 971, and 719, are themselves prime.\n",
    "\n",
    "# There are thirteen such primes below 100: 2, 3, 5, 7, 11, 13, 17, 31, 37, 71, 73, 79, and 97.\n",
    "\n",
    "# How many circular primes are there below one million?\n",
    "\n",
    "\n",
    "\n",
    "from math import sqrt\n",
    "\n",
    "def sieve(n):\n",
    "    primes = [True] * (n+1)\n",
    "    primes[0] = primes[1] = False\n",
    "\n",
    "    for x in range(4,n+1,2):\n",
    "        primes[x] = False\n",
    "\n",
    "    for x in range(3,int(sqrt(n))+1,2):\n",
    "        if(primes[x]):\n",
    "            for y in range(x*x,n+1,x):\n",
    "                primes[y] = False\n",
    "\n",
    "    return primes\n",
    "\n",
    "def rotate(n):\n",
    "    n=str(n)\n",
    "    return n[1:]+n[:1]\n",
    "\n",
    "def isRotatable(n, primes):\n",
    "    for x in range(2,n):\n",
    "        n = rotate(n)\n",
    "        if not primes[int(n)]:\n",
    "            return False\n",
    "    return True\n",
    "\n",
    "n=1000000\n",
    "l=[]\n",
    "primes = sieve(n)\n",
    "for x in range(2, len(primes)):\n",
    "    if(isRotatable(x,primes)):\n",
    "        l.append(x)\n",
    "print(len(l))"
   ]
  },
  {
   "cell_type": "code",
   "execution_count": null,
   "id": "agreed-blind",
   "metadata": {},
   "outputs": [],
   "source": []
  }
 ],
 "metadata": {
  "kernelspec": {
   "display_name": "Python 3",
   "language": "python",
   "name": "python3"
  },
  "language_info": {
   "codemirror_mode": {
    "name": "ipython",
    "version": 3
   },
   "file_extension": ".py",
   "mimetype": "text/x-python",
   "name": "python",
   "nbconvert_exporter": "python",
   "pygments_lexer": "ipython3",
   "version": "3.7.10"
  }
 },
 "nbformat": 4,
 "nbformat_minor": 5
}
