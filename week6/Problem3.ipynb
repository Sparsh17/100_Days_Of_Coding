{
 "cells": [
  {
   "cell_type": "code",
   "execution_count": 1,
   "id": "divided-temperature",
   "metadata": {},
   "outputs": [
    {
     "name": "stdout",
     "output_type": "stream",
     "text": [
      "872187\n"
     ]
    }
   ],
   "source": [
    "# The decimal number, 585 = 10010010012 (binary), is palindromic in both bases.\n",
    "\n",
    "# Find the sum of all numbers, less than one million, which are palindromic in base 10 and base 2.\n",
    "\n",
    "# (Please note that the palindromic number, in either base, may not include leading zeros.)\n",
    "\n",
    "\n",
    "\n",
    "def makePalindrome(n, odd):\n",
    "\n",
    "    res = n;\n",
    "    if (odd):\n",
    "        n = int(n / 10);\n",
    "    while (n > 0):\n",
    "        res = 10 * res + n % 10;\n",
    "        n = int(n / 10);\n",
    "    return res;\n",
    "\n",
    "\n",
    "def isPalindrome(n, base):\n",
    "    reversed = 0;\n",
    "    temp = n;\n",
    "    while (temp > 0):\n",
    "        reversed = reversed * base + temp % base;\n",
    "        temp = int(temp / base);\n",
    "\n",
    "    return reversed == n;\n",
    "\n",
    "def sumPalindrome(n, k):\n",
    "\n",
    "    sum = 0;\n",
    "    i = 1;\n",
    "\n",
    "    p = makePalindrome(i, True);\n",
    "\n",
    "    while (p < n):\n",
    "        if (isPalindrome(p, k)):\n",
    "            sum += p;\n",
    "        i += 1;\n",
    "\n",
    "        p = makePalindrome(i, True);\n",
    "\n",
    "    i = 1;\n",
    "\n",
    "\n",
    "    p = makePalindrome(i, False);\n",
    "    while (p < n):\n",
    "        if (isPalindrome(p, k)):\n",
    "            sum += p;\n",
    "        i += 1;\n",
    "        p = makePalindrome(i, False);\n",
    "\n",
    "    print(sum);\n",
    "\n",
    "n = 1000000;\n",
    "k = 2;\n",
    "sumPalindrome(n, k);"
   ]
  },
  {
   "cell_type": "code",
   "execution_count": null,
   "id": "advanced-computer",
   "metadata": {},
   "outputs": [],
   "source": []
  }
 ],
 "metadata": {
  "kernelspec": {
   "display_name": "Python 3",
   "language": "python",
   "name": "python3"
  },
  "language_info": {
   "codemirror_mode": {
    "name": "ipython",
    "version": 3
   },
   "file_extension": ".py",
   "mimetype": "text/x-python",
   "name": "python",
   "nbconvert_exporter": "python",
   "pygments_lexer": "ipython3",
   "version": "3.7.10"
  }
 },
 "nbformat": 4,
 "nbformat_minor": 5
}
