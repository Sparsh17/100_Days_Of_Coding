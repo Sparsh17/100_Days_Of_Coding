{
 "cells": [
  {
   "cell_type": "code",
   "execution_count": 2,
   "id": "fantastic-container",
   "metadata": {},
   "outputs": [
    {
     "name": "stdout",
     "output_type": "stream",
     "text": [
      "748317\n"
     ]
    }
   ],
   "source": [
    "# The number 3797 has an interesting property. Being prime itself, it is possible to continuously remove digits from left to \n",
    "# right, and remain prime at each stage: 3797, 797, 97, and 7. Similarly we can work from right to left: 3797, 379, 37, and 3.\n",
    "\n",
    "# Find the sum of the only eleven primes that are both truncatable from left to right and right to left.\n",
    "\n",
    "# NOTE: 2, 3, 5, and 7 are not considered to be truncatable primes.\n",
    "\n",
    "\n",
    "\n",
    "def isPrime(n):\n",
    "    if n in {2, 3, 5, 7}:\n",
    "        return True\n",
    "    if n < 2 or n%2 == 0:\n",
    "        return False\n",
    "    if n%3 == 0 or n%5 == 0:\n",
    "        return False\n",
    "    r = int(n**0.5)\n",
    "    f = 5\n",
    "    while f <= r:\n",
    "        if n%f == 0 or n%(f+2) == 0:\n",
    "            return False\n",
    "        f += 6\n",
    "    return True\n",
    "\n",
    "def gen(nb):\n",
    "    yield nb\n",
    "    nb_str = str(nb)\n",
    "    for k in range(1, len(nb_str)):\n",
    "        yield int(nb_str[k:])\n",
    "        yield int(nb_str[:-k])\n",
    "\n",
    "def check(nb):\n",
    "    for t in gen(nb):\n",
    "        if not isPrime(t):\n",
    "            return False\n",
    "    return True\n",
    "\n",
    "c = s = 0\n",
    "i = 11\n",
    "while c < 11:\n",
    "    if check(i):\n",
    "        c += 1\n",
    "        s += i\n",
    "    i += 2\n",
    "\n",
    "print(s)"
   ]
  },
  {
   "cell_type": "code",
   "execution_count": null,
   "id": "downtown-still",
   "metadata": {},
   "outputs": [],
   "source": []
  }
 ],
 "metadata": {
  "kernelspec": {
   "display_name": "Python 3",
   "language": "python",
   "name": "python3"
  },
  "language_info": {
   "codemirror_mode": {
    "name": "ipython",
    "version": 3
   },
   "file_extension": ".py",
   "mimetype": "text/x-python",
   "name": "python",
   "nbconvert_exporter": "python",
   "pygments_lexer": "ipython3",
   "version": "3.7.10"
  }
 },
 "nbformat": 4,
 "nbformat_minor": 5
}
