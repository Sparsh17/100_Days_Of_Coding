{
 "cells": [
  {
   "cell_type": "code",
   "execution_count": 1,
   "id": "infrared-commerce",
   "metadata": {},
   "outputs": [
    {
     "name": "stdout",
     "output_type": "stream",
     "text": [
      "210\n"
     ]
    }
   ],
   "source": [
    "# An irrational decimal fraction is created by concatenating the positive integers:\n",
    "\n",
    "# 0.123456789101112131415161718192021...\n",
    "\n",
    "# It can be seen that the 12th digit of the fractional part is 1.\n",
    "\n",
    "# If dn represents the nth digit of the fractional part, find the value of the following expression.\n",
    "\n",
    "# d1 × d10 × d100 × d1000 × d10000 × d100000 × d1000000\n",
    "\n",
    "\n",
    "def digits(n):\n",
    "    return [int(c) for c in str(n)]\n",
    "\n",
    "def fractional_digits():\n",
    "    n = 1\n",
    "    while True:\n",
    "        for i in digits(n):\n",
    "            yield i\n",
    "        n += 1\n",
    "\n",
    "def search(targets):\n",
    "    result = {}\n",
    "    n = 0\n",
    "    for d in fractional_digits():\n",
    "        n += 1\n",
    "        if n in targets:\n",
    "            result[n] = d\n",
    "            if len(result) == len(targets):\n",
    "                return result\n",
    "\n",
    "def solve():\n",
    "    digit_at = search({1,10,100,1000,10000,100000,1000000})\n",
    "    ans = 1\n",
    "    for pos in digit_at:\n",
    "        ans *= digit_at[pos]\n",
    "    return ans\n",
    "\n",
    "\n",
    "ans = solve()\n",
    "print(ans)"
   ]
  },
  {
   "cell_type": "code",
   "execution_count": null,
   "id": "comparative-circuit",
   "metadata": {},
   "outputs": [],
   "source": []
  }
 ],
 "metadata": {
  "kernelspec": {
   "display_name": "Python 3",
   "language": "python",
   "name": "python3"
  },
  "language_info": {
   "codemirror_mode": {
    "name": "ipython",
    "version": 3
   },
   "file_extension": ".py",
   "mimetype": "text/x-python",
   "name": "python",
   "nbconvert_exporter": "python",
   "pygments_lexer": "ipython3",
   "version": "3.7.10"
  }
 },
 "nbformat": 4,
 "nbformat_minor": 5
}
