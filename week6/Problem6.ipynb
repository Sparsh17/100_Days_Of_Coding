{
 "cells": [
  {
   "cell_type": "code",
   "execution_count": 4,
   "id": "hourly-shape",
   "metadata": {},
   "outputs": [
    {
     "name": "stdout",
     "output_type": "stream",
     "text": [
      "840.0\n"
     ]
    }
   ],
   "source": [
    "# If p is the perimeter of a right angle triangle with integral length sides, {a,b,c}, there are exactly three solutions for \n",
    "# p = 120.\n",
    "\n",
    "# {20,48,52}, {24,45,51}, {30,40,50}\n",
    "\n",
    "# For which value of p ≤ 1000, is the number of solutions maximised?\n",
    "\n",
    "\n",
    "from math import sqrt\n",
    "\n",
    "perimeters = {}\n",
    "for a in range(1, 1000):\n",
    "    for b in range(1, int(a / 2) + 1):\n",
    "        c = sqrt(a ** 2 + b ** 2)\n",
    "        p = a + b + c\n",
    "        if c == int(c) and p < 1001:\n",
    "            perimeters[p] = perimeters.get(p, 0) + 1\n",
    "\n",
    "inverse = [(value, key) for key, value in perimeters.items()]\n",
    "print(max(inverse)[1])"
   ]
  },
  {
   "cell_type": "code",
   "execution_count": null,
   "id": "hollywood-knowing",
   "metadata": {},
   "outputs": [],
   "source": []
  }
 ],
 "metadata": {
  "kernelspec": {
   "display_name": "Python 3",
   "language": "python",
   "name": "python3"
  },
  "language_info": {
   "codemirror_mode": {
    "name": "ipython",
    "version": 3
   },
   "file_extension": ".py",
   "mimetype": "text/x-python",
   "name": "python",
   "nbconvert_exporter": "python",
   "pygments_lexer": "ipython3",
   "version": "3.7.10"
  }
 },
 "nbformat": 4,
 "nbformat_minor": 5
}
