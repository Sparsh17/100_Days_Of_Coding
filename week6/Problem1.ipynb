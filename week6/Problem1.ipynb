{
 "cells": [
  {
   "cell_type": "code",
   "execution_count": 2,
   "id": "stylish-scott",
   "metadata": {},
   "outputs": [
    {
     "name": "stdout",
     "output_type": "stream",
     "text": [
      "40730\n"
     ]
    }
   ],
   "source": [
    "# 145 is a curious number, as 1! + 4! + 5! = 1 + 24 + 120 = 145.\n",
    "\n",
    "# Find the sum of all numbers which are equal to the sum of the factorial of their digits.\n",
    "\n",
    "# Note: As 1! = 1 and 2! = 2 are not sums they are not included.\n",
    "\n",
    "import math\n",
    "\n",
    "def check_sum(number):\n",
    "    list_digits = list(str(number))\n",
    "    check_sum = sum([math.factorial(int(digit)) for digit in list_digits])\n",
    "    return check_sum == number\n",
    "\n",
    "def final_sum(counter_min=3, counter_max=200000):\n",
    "    \"\"\"Find the sum of all the numbers.\"\"\"\n",
    "    final_sum = 0\n",
    "    for counter in range(counter_min, counter_max):\n",
    "        if check_sum(counter):\n",
    "             final_sum += counter\n",
    "    return final_sum\n",
    "\n",
    "print(final_sum())"
   ]
  },
  {
   "cell_type": "code",
   "execution_count": null,
   "id": "settled-edwards",
   "metadata": {},
   "outputs": [],
   "source": []
  }
 ],
 "metadata": {
  "kernelspec": {
   "display_name": "Python 3",
   "language": "python",
   "name": "python3"
  },
  "language_info": {
   "codemirror_mode": {
    "name": "ipython",
    "version": 3
   },
   "file_extension": ".py",
   "mimetype": "text/x-python",
   "name": "python",
   "nbconvert_exporter": "python",
   "pygments_lexer": "ipython3",
   "version": "3.7.10"
  }
 },
 "nbformat": 4,
 "nbformat_minor": 5
}
