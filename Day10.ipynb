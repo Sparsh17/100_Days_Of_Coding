{
 "cells": [
  {
   "cell_type": "markdown",
   "metadata": {},
   "source": [
    "# Summation of primes"
   ]
  },
  {
   "cell_type": "code",
   "execution_count": 5,
   "metadata": {},
   "outputs": [
    {
     "name": "stdout",
     "output_type": "stream",
     "text": [
      "142913828922\n"
     ]
    }
   ],
   "source": [
    "import math\n",
    "value=2\n",
    "for i in range(3, 2000000):\n",
    "    prime=True \n",
    "    if i%2 != 0:\n",
    "        for j in range(3, int(round(math.sqrt(i)+1)),2):\n",
    "            if i % j==0:\n",
    "                prime=False\n",
    "    else:\n",
    "        prime=False\n",
    "    if prime==True:\n",
    "        value+=i\n",
    "print(value)"
   ]
  },
  {
   "cell_type": "code",
   "execution_count": null,
   "metadata": {},
   "outputs": [],
   "source": [
    "# # The sum of the primes below 10 is 2 + 3 + 5 + 7 = 17.\n",
    "\n",
    "# # Find the sum of all the primes below two million.\n",
    "\n",
    "# def prime1toN(n):\n",
    "#     l = []\n",
    "#     i = 2\n",
    "#     while i <=n:\n",
    "#         k = 2\n",
    "#         flag = False\n",
    "#         while(k<i):\n",
    "#             if (i%k == 0):\n",
    "#                 flag = True\n",
    "#             k += 1\n",
    "#         if not(flag):\n",
    "#             l.append(i)\n",
    "#         i += 1\n",
    "#     return l\n",
    "\n",
    "# n = int(input())\n",
    "# a = prime1toN(n)\n",
    "# s = 0\n",
    "# for ele in a:\n",
    "#     s += ele\n",
    "# # print(s)\n",
    "# print(a)"
   ]
  }
 ],
 "metadata": {
  "kernelspec": {
   "display_name": "Python 3",
   "language": "python",
   "name": "python3"
  },
  "language_info": {
   "codemirror_mode": {
    "name": "ipython",
    "version": 3
   },
   "file_extension": ".py",
   "mimetype": "text/x-python",
   "name": "python",
   "nbconvert_exporter": "python",
   "pygments_lexer": "ipython3",
   "version": "3.7.6"
  }
 },
 "nbformat": 4,
 "nbformat_minor": 4
}
