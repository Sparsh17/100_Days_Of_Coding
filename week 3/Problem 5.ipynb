{
 "cells": [
  {
   "cell_type": "code",
   "execution_count": 5,
   "id": "beneficial-episode",
   "metadata": {},
   "outputs": [
    {
     "name": "stdout",
     "output_type": "stream",
     "text": [
      "21124\n"
     ]
    }
   ],
   "source": [
    "# If the numbers 1 to 5 are written out in words: one, two, three, four, five, then there are 3 + 3 + 5 + 4 + 4 = 19 letters \n",
    "# used in total.\n",
    "\n",
    "# If all the numbers from 1 to 1000 (one thousand) inclusive were written out in words, how many letters would be used?\n",
    "\n",
    "\n",
    "# NOTE: Do not count spaces or hyphens. For example, 342 (three hundred and forty-two) contains 23 letters and 115 \n",
    "# (one hundred and fifteen) contains 20 letters. The use of \"and\" when writing out numbers is in compliance with British \n",
    "# usage.\n",
    "\n",
    "\n",
    "def number_to_english(n: int) -> str:\n",
    "\n",
    "    ones = [\"zero\", \"one\", \"two\", \"three\", \"four\", \"five\", \"six\", \"seven\", \"eight\", \"nine\", \"ten\", \"eleven\", \"twelve\",\n",
    "            \"thirteen\", \"fourteen\", \"fifteen\", \"sixteen\", \"seventeen\", \"eighteen\", \"nineteen\"]\n",
    "    tens = [None, None, \"twenty\", \"thirty\", \"forty\", \"fifty\", \"sixty\", \"seventy\", \"eighty\", \"ninety\"]\n",
    "    if 0 <= n < 20:\n",
    "        return ones[n]\n",
    "    elif 20 <= n <= 90 and n % 10 == 0:\n",
    "        return tens[n // 10]\n",
    "    elif 20 < n < 100:\n",
    "        return tens[n // 10] + \"-\" + ones[n % 10]\n",
    "    elif 100 <= n <= 900 and n % 100 == 0:\n",
    "        return ones[n // 100] + \" hundred\"\n",
    "    elif 100 < n < 1000:\n",
    "        return ones[n // 100] + \" hundred and \" + number_to_english(n % 100)\n",
    "    elif 1000 < n < 10000:\n",
    "        pass\n",
    "    elif n == 1000:\n",
    "        return \"one thousand\"\n",
    "    else:\n",
    "        raise ValueError(\"unexpected input\")\n",
    "\n",
    "\n",
    "\n",
    "target = 1000\n",
    "answer = 0\n",
    "for i in range(target):\n",
    "    words = number_to_english(i + 1).replace(\" \", \"\").replace(\"-\", \"\")\n",
    "    answer += len(words)\n",
    "print(answer)"
   ]
  },
  {
   "cell_type": "code",
   "execution_count": null,
   "id": "anonymous-delay",
   "metadata": {},
   "outputs": [],
   "source": []
  }
 ],
 "metadata": {
  "kernelspec": {
   "display_name": "Python 3",
   "language": "python",
   "name": "python3"
  },
  "language_info": {
   "codemirror_mode": {
    "name": "ipython",
    "version": 3
   },
   "file_extension": ".py",
   "mimetype": "text/x-python",
   "name": "python",
   "nbconvert_exporter": "python",
   "pygments_lexer": "ipython3",
   "version": "3.7.10"
  }
 },
 "nbformat": 4,
 "nbformat_minor": 5
}
