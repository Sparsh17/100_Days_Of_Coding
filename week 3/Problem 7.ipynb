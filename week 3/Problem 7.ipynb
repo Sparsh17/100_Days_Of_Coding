{
 "cells": [
  {
   "cell_type": "code",
   "execution_count": 16,
   "id": "nasty-weapon",
   "metadata": {},
   "outputs": [
    {
     "name": "stdout",
     "output_type": "stream",
     "text": [
      "171\n"
     ]
    }
   ],
   "source": [
    "# You are given the following information, but you may prefer to do some research for yourself.\n",
    "\n",
    "# 1 Jan 1900 was a Monday.\n",
    "# Thirty days has September,\n",
    "# April, June and November.\n",
    "# All the rest have thirty-one,\n",
    "# Saving February alone,\n",
    "# Which has twenty-eight, rain or shine.\n",
    "# And on leap years, twenty-nine.\n",
    "# A leap year occurs on any year evenly divisible by 4, but not on a century unless it is divisible by 400.\n",
    "# How many Sundays fell on the first of the month during the twentieth century (1 Jan 1901 to 31 Dec 2000)?\n",
    "\n",
    "\n",
    "\n",
    "from collections import OrderedDict\n",
    "\n",
    "months = OrderedDict( [(\"January\",31),(\"February\", 28),(\"March\",31),\n",
    "                       (\"April\", 30), (\"May\", 31), (\"June\", 30),\n",
    "                       (\"July\", 31), (\"August\", 31), (\"September\", 30),\n",
    "                       (\"October\", 31), (\"November\", 30), (\"December\", 31)] )\n",
    "\n",
    "days = ['Tuesday','Wednesday', 'Thursday','Friday','Saturday', 'Sunday', 'Monday']\n",
    "\n",
    "day = 0\n",
    "sunday_count = 0\n",
    "\n",
    "def isLeap(year):\n",
    "  leap = True\n",
    "  if year % 4 != 0:\n",
    "     leap = False\n",
    "  elif year % 100 != 0:\n",
    "     leap = True\n",
    "  elif year % 400 != 0:\n",
    "     leap = False\n",
    "  return leap\n",
    "\n",
    "for year in range(1901,2001):\n",
    "  leap = isLeap(year)\n",
    "\n",
    "  for m in months:\n",
    "      day_Name = days[day%7]\n",
    "      if day_Name == \"Sunday\":\n",
    "         sunday_count += 1\n",
    "      day += months[m]\n",
    "      if leap == True and m == \"February\":\n",
    "          day += 1\n",
    "\n",
    "print(sunday_count)"
   ]
  },
  {
   "cell_type": "code",
   "execution_count": null,
   "id": "express-yellow",
   "metadata": {},
   "outputs": [],
   "source": []
  }
 ],
 "metadata": {
  "kernelspec": {
   "display_name": "Python 3",
   "language": "python",
   "name": "python3"
  },
  "language_info": {
   "codemirror_mode": {
    "name": "ipython",
    "version": 3
   },
   "file_extension": ".py",
   "mimetype": "text/x-python",
   "name": "python",
   "nbconvert_exporter": "python",
   "pygments_lexer": "ipython3",
   "version": "3.7.10"
  }
 },
 "nbformat": 4,
 "nbformat_minor": 5
}
