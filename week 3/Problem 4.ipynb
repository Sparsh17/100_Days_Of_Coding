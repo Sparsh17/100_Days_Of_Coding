{
 "cells": [
  {
   "cell_type": "code",
   "execution_count": 8,
   "id": "voluntary-cosmetic",
   "metadata": {},
   "outputs": [
    {
     "name": "stdout",
     "output_type": "stream",
     "text": [
      "1366\n"
     ]
    }
   ],
   "source": [
    "# 2**15 = 32768 and the sum of its digits is 3 + 2 + 7 + 6 + 8 = 26.\n",
    "\n",
    "# What is the sum of the digits of the number 2*1000?\n",
    "\n",
    "\n",
    "def sum_Of_Digit(n):\n",
    "    sum_of_digits = 0\n",
    "    while n > 9:\n",
    "        sum_of_digits += n % 10\n",
    "        n = n // 10 \n",
    "    sum_of_digits += n\n",
    "    return sum_of_digits\n",
    "\n",
    "print(sum_Of_Digit(pow(2, 1000)))"
   ]
  },
  {
   "cell_type": "code",
   "execution_count": null,
   "id": "impressive-still",
   "metadata": {},
   "outputs": [],
   "source": []
  }
 ],
 "metadata": {
  "kernelspec": {
   "display_name": "Python 3",
   "language": "python",
   "name": "python3"
  },
  "language_info": {
   "codemirror_mode": {
    "name": "ipython",
    "version": 3
   },
   "file_extension": ".py",
   "mimetype": "text/x-python",
   "name": "python",
   "nbconvert_exporter": "python",
   "pygments_lexer": "ipython3",
   "version": "3.7.10"
  }
 },
 "nbformat": 4,
 "nbformat_minor": 5
}
