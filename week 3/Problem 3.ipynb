{
 "cells": [
  {
   "cell_type": "code",
   "execution_count": 11,
   "id": "accurate-greeting",
   "metadata": {},
   "outputs": [
    {
     "name": "stdout",
     "output_type": "stream",
     "text": [
      "837799\n"
     ]
    }
   ],
   "source": [
    "# The following iterative sequence is defined for the set of positive integers:\n",
    "\n",
    "# n → n/2 (n is even)\n",
    "# n → 3n + 1 (n is odd)\n",
    "\n",
    "# Using the rule above and starting with 13, we generate the following sequence:\n",
    "\n",
    "# 13 → 40 → 20 → 10 → 5 → 16 → 8 → 4 → 2 → 1\n",
    "# It can be seen that this sequence (starting at 13 and finishing at 1) contains 10 terms. Although it has not been proved yet \n",
    "# (Collatz Problem), it is thought that all starting numbers finish at 1.\n",
    "\n",
    "# Which starting number, under one million, produces the longest chain?\n",
    "\n",
    "# NOTE: Once the chain starts the terms are allowed to go above one million.\n",
    "\n",
    "\n",
    "has2={}\n",
    "def collatz(x):\n",
    "    seq=[]\n",
    "    seq.append(x)\n",
    "    temp=x\n",
    "    while(temp>1):\n",
    "        if temp%2==0:\n",
    "            temp=int(temp/2)\n",
    "            if temp in has2:\n",
    "                seq+=has2[temp]\n",
    "                break\n",
    "            else:\n",
    "                seq.append(temp)\n",
    "        else:\n",
    "            temp=3*temp+1\n",
    "            if temp in has2:\n",
    "                seq+=has2[temp]\n",
    "                break\n",
    "            else:\n",
    "                seq.append(temp)\n",
    "\n",
    "\n",
    "    has2[x]=seq            \n",
    "    return len(seq)\n",
    "\n",
    "num=0\n",
    "greatest=0\n",
    "for i in range(1000000):\n",
    "    c=collatz(i)\n",
    "    if num<c:\n",
    "        num=c\n",
    "        greatest=i\n",
    "print(greatest)"
   ]
  },
  {
   "cell_type": "code",
   "execution_count": null,
   "id": "august-botswana",
   "metadata": {},
   "outputs": [],
   "source": []
  }
 ],
 "metadata": {
  "kernelspec": {
   "display_name": "Python 3",
   "language": "python",
   "name": "python3"
  },
  "language_info": {
   "codemirror_mode": {
    "name": "ipython",
    "version": 3
   },
   "file_extension": ".py",
   "mimetype": "text/x-python",
   "name": "python",
   "nbconvert_exporter": "python",
   "pygments_lexer": "ipython3",
   "version": "3.7.10"
  }
 },
 "nbformat": 4,
 "nbformat_minor": 5
}
